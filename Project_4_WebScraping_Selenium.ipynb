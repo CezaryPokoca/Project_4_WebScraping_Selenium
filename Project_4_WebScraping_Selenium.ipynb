{
 "cells": [
  {
   "cell_type": "code",
   "execution_count": 4,
   "metadata": {},
   "outputs": [],
   "source": [
    "# Installing the Firefox browser driver and importing Python libraries\n",
    "\n",
    "import json\n",
    "import time\n",
    "\n",
    "from selenium.webdriver import Firefox\n",
    "from selenium.webdriver.firefox.service import Service as FirefoxService\n",
    "from selenium.webdriver.common.keys import Keys\n",
    "\n",
    "from webdriver_manager.firefox import GeckoDriverManager\n",
    "\n",
    "def get_browser_firefox():\n",
    "    return Firefox(service=FirefoxService(GeckoDriverManager().install()))"
   ]
  },
  {
   "cell_type": "code",
   "execution_count": 6,
   "metadata": {},
   "outputs": [],
   "source": [
    "# Definition 1 - Creating definitions to extract the names of charity organizations and links to their subpages - the top 20 places in the ranking.\n",
    "\n",
    "def get_organization_data(org):\n",
    "    page = 1\n",
    "    while page == 1:\n",
    "        browser = get_browser_firefox()\n",
    "        browser.implicitly_wait(10)\n",
    "        browser.get(org)\n",
    "        results = []\n",
    "        try:\n",
    "            next_btn = browser.find_element('css selector', 'div.banner-actions-container button#onetrust-accept-btn-handler')\n",
    "            next_btn.click()\n",
    "        except:\n",
    "            continue\n",
    "        companies = browser.find_elements('css selector', 'ul.rankings-entities-list li')\n",
    "        for company in companies:\n",
    "            url = company.find_element('css selector', 'a.rankings-entities-list-item.focus-state.ng-star-inserted')\n",
    "            name = company.find_element('css selector', 'span:nth-child(3)')\n",
    "            url_data = {\n",
    "                    'url': url.get_attribute('href'),\n",
    "                    'company_name': name.text\n",
    "            }\n",
    "            results.append(url_data)   \n",
    "        page += 1\n",
    "        browser.quit()\n",
    "        return results"
   ]
  },
  {
   "cell_type": "code",
   "execution_count": 8,
   "metadata": {},
   "outputs": [
    {
     "data": {
      "text/plain": [
       "[{'url': 'https://yougov.co.uk/topics/health/explore/not-for-profit/Macmillan_Cancer_Support',\n",
       "  'company_name': 'Macmillan Cancer Support'},\n",
       " {'url': 'https://yougov.co.uk/topics/health/explore/not-for-profit/St_John_Ambulance',\n",
       "  'company_name': 'St. John Ambulance'},\n",
       " {'url': 'https://yougov.co.uk/topics/health/explore/not-for-profit/Cancer_Research_UK',\n",
       "  'company_name': 'Cancer Research UK'},\n",
       " {'url': 'https://yougov.co.uk/topics/health/explore/not-for-profit/British_Heart_Foundation',\n",
       "  'company_name': 'British Heart Foundation'},\n",
       " {'url': 'https://yougov.co.uk/topics/health/explore/not-for-profit/Great_Ormond_Street_Hospital',\n",
       "  'company_name': 'Great Ormond Street Hospital'},\n",
       " {'url': 'https://yougov.co.uk/topics/health/explore/not-for-profit/Alzheimers_Research_UK',\n",
       "  'company_name': \"Alzheimer's Research UK\"},\n",
       " {'url': 'https://yougov.co.uk/topics/health/explore/not-for-profit/National_Trust',\n",
       "  'company_name': 'National Trust'},\n",
       " {'url': 'https://yougov.co.uk/topics/health/explore/not-for-profit/Alzheimers_Society',\n",
       "  'company_name': \"Alzheimer's Society\"},\n",
       " {'url': 'https://yougov.co.uk/topics/health/explore/not-for-profit/Marie_Curie',\n",
       "  'company_name': 'Marie Curie'},\n",
       " {'url': 'https://yougov.co.uk/topics/health/explore/not-for-profit/Guide_Dogs',\n",
       "  'company_name': 'Guide Dogs'},\n",
       " {'url': 'https://yougov.co.uk/topics/health/explore/not-for-profit/NSPCC',\n",
       "  'company_name': 'NSPCC'},\n",
       " {'url': 'https://yougov.co.uk/topics/health/explore/not-for-profit/Prostate_Cancer_UK',\n",
       "  'company_name': 'Prostate Cancer UK'},\n",
       " {'url': 'https://yougov.co.uk/topics/health/explore/not-for-profit/British_Red_Cross',\n",
       "  'company_name': 'British Red Cross'},\n",
       " {'url': 'https://yougov.co.uk/topics/health/explore/not-for-profit/WWF',\n",
       "  'company_name': 'WWF'},\n",
       " {'url': 'https://yougov.co.uk/topics/health/explore/not-for-profit/Duke_of_Edinburgh_Awards',\n",
       "  'company_name': 'Duke of Edinburgh Awards'},\n",
       " {'url': 'https://yougov.co.uk/topics/health/explore/not-for-profit/RSPCA',\n",
       "  'company_name': 'RSPCA'},\n",
       " {'url': 'https://yougov.co.uk/topics/health/explore/not-for-profit/ChildLine',\n",
       "  'company_name': 'ChildLine'},\n",
       " {'url': 'https://yougov.co.uk/topics/health/explore/not-for-profit/Make_A_Wish_Foundation',\n",
       "  'company_name': 'Make-A-Wish Foundation'},\n",
       " {'url': 'https://yougov.co.uk/topics/health/explore/not-for-profit/Londons_Air_Ambulance',\n",
       "  'company_name': \"London's Air Ambulance\"},\n",
       " {'url': 'https://yougov.co.uk/topics/health/explore/not-for-profit/Mind',\n",
       "  'company_name': 'Mind'}]"
      ]
     },
     "execution_count": 8,
     "metadata": {},
     "output_type": "execute_result"
    }
   ],
   "source": [
    "# Starting up - Definition 1 \n",
    "\n",
    "link_org = 'https://yougov.co.uk/ratings/politics/popularity/charities-organisations/all'\n",
    "charity_org = get_organization_data(link_org)\n",
    "\n",
    "charity_org"
   ]
  },
  {
   "cell_type": "code",
   "execution_count": 52,
   "metadata": {},
   "outputs": [],
   "source": [
    "# Definition 2 - Creating and verifying the correctness of a definition that extracts statistical data for only one organization.\n",
    "\n",
    "def get_organization_detailed_data(org):\n",
    "    page = 1\n",
    "    while page == 1:\n",
    "        browser = get_browser_firefox()\n",
    "        browser.implicitly_wait(10)\n",
    "        browser.get(org)\n",
    "        results = []\n",
    "        try:\n",
    "            next_btn = browser.find_element('css selector', 'div.banner-actions-container button#onetrust-accept-btn-handler')\n",
    "            next_btn.click()\n",
    "        except:\n",
    "            continue\n",
    "        companies = browser.find_elements('css selector', 'div.entity-header-lines')\n",
    "        for company in companies:\n",
    "            fame = company.find_element('css selector', 'div.entity-header-line:nth-child(1) > div:nth-child(1) > div:nth-child(2)')\n",
    "            pop = company.find_element('css selector', 'div.entity-header-line:nth-child(2) > div:nth-child(1) > div:nth-child(2)')\n",
    "            dislike = company.find_element('css selector', 'div.entity-header-line:nth-child(3) > div:nth-child(1) > div:nth-child(2)')\n",
    "            neutral = company.find_element('css selector', 'div.entity-header-line:nth-child(4) > div:nth-child(1) > div:nth-child(2)')\n",
    "            url_data = {\n",
    "                'Fame': fame.text,\n",
    "                'Popularity': pop.text,\n",
    "                'Disliked by': dislike.text,\n",
    "                'Neutral': neutral.text   \n",
    "            }\n",
    "            results.append(url_data)\n",
    "        page += 1\n",
    "        return results, browser.quit()"
   ]
  },
  {
   "cell_type": "code",
   "execution_count": 54,
   "metadata": {},
   "outputs": [
    {
     "data": {
      "text/plain": [
       "([{'Fame': '97%', 'Popularity': '90%', 'Disliked by': '0%', 'Neutral': '7%'}],\n",
       " None)"
      ]
     },
     "execution_count": 54,
     "metadata": {},
     "output_type": "execute_result"
    }
   ],
   "source": [
    "# Starting up - Definition 2 \n",
    "\n",
    "link_org = 'https://yougov.co.uk/topics/health/explore/not-for-profit/Macmillan_Cancer_Support'\n",
    "stat_org = get_organization_detailed_data(link_org)\n",
    "\n",
    "stat_org"
   ]
  },
  {
   "cell_type": "code",
   "execution_count": 56,
   "metadata": {},
   "outputs": [],
   "source": [
    "# Definition 3 - Creating a definition that extracts data for all organizations.\n",
    "\n",
    "def get_data(org):\n",
    "    n = 0\n",
    "    for n in range(0,19):\n",
    "        browser = get_browser_firefox()\n",
    "        browser.implicitly_wait(15)\n",
    "        browser.get(org)\n",
    "        results = []\n",
    "        try:\n",
    "            next_btn = browser.find_element('css selector', 'div.banner-actions-container button#onetrust-accept-btn-handler')\n",
    "            next_btn.click()\n",
    "        except:\n",
    "            continue\n",
    "        companies = browser.find_elements('css selector', 'ul.rankings-entities-list li')\n",
    "        for company in companies:\n",
    "            url = company.find_element('css selector', 'a.rankings-entities-list-item.focus-state.ng-star-inserted')\n",
    "            name = company.find_element('css selector', 'span:nth-child(3)')\n",
    "            url_data = {\n",
    "                    'url': url.get_attribute('href'),\n",
    "                    'company_name': name.text\n",
    "            }\n",
    "            results.append(url_data)\n",
    "\n",
    "            time.sleep(5)\n",
    "            stat_link = url.get_attribute('href')                                  \n",
    "            browser = get_browser_firefox()\n",
    "            browser.implicitly_wait(15)\n",
    "            browser.get(stat_link)\n",
    "            try:\n",
    "                next_btn = browser.find_element('css selector', 'div.banner-actions-container button#onetrust-accept-btn-handler')\n",
    "                next_btn.click()\n",
    "            except:\n",
    "                continue\n",
    "            comps = browser.find_elements('css selector','div.entity-header-lines')\n",
    "            for comp in comps:\n",
    "                fame = comp.find_element('css selector', 'div.entity-header-line:nth-child(1) > div:nth-child(1) > div:nth-child(2)')\n",
    "                pop = comp.find_element('css selector', 'div.entity-header-line:nth-child(2) > div:nth-child(1) > div:nth-child(2)')\n",
    "                dislike = comp.find_element('css selector', 'div.entity-header-line:nth-child(3) > div:nth-child(1) > div:nth-child(2)')\n",
    "                neutral = comp.find_element('css selector', 'div.entity-header-line:nth-child(4) > div:nth-child(1) > div:nth-child(2)')\n",
    "                url_data = {\n",
    "                     'Fame': fame.text,\n",
    "                     'Popularity': pop.text,\n",
    "                     'Disliked by': dislike.text,\n",
    "                     'Neutral': neutral.text   \n",
    "                 }\n",
    "                results.append(url_data)\n",
    "                browser.quit()\n",
    "        n+=1\n",
    "        browser.quit()\n",
    "        return results"
   ]
  },
  {
   "cell_type": "code",
   "execution_count": 58,
   "metadata": {},
   "outputs": [
    {
     "ename": "ValueError",
     "evalue": "response body:\n{\"message\":\"API rate limit exceeded for 45.129.254.142. (But here's the good news: Authenticated requests get a higher rate limit. Check out the documentation for more details.)\",\"documentation_url\":\"https://docs.github.com/rest/overview/resources-in-the-rest-api#rate-limiting\"}\n\nrequest url:\nhttps://api.github.com/repos/mozilla/geckodriver/releases/latest\nresponse headers:\n{'Date': 'Fri, 08 Aug 2025 14:21:03 GMT', 'Server': 'Varnish', 'Strict-Transport-Security': 'max-age=31536000; includeSubdomains; preload', 'X-Content-Type-Options': 'nosniff', 'X-Frame-Options': 'deny', 'X-XSS-Protection': '1; mode=block', 'Content-Security-Policy': \"default-src 'none'; style-src 'unsafe-inline'\", 'Access-Control-Allow-Origin': '*', 'Access-Control-Expose-Headers': 'ETag, Link, Location, Retry-After, X-GitHub-OTP, X-RateLimit-Limit, X-RateLimit-Remaining, X-RateLimit-Reset, X-RateLimit-Used, X-RateLimit-Resource, X-OAuth-Scopes, X-Accepted-OAuth-Scopes, X-Poll-Interval, X-GitHub-Media-Type, Deprecation, Sunset', 'Content-Type': 'application/json; charset=utf-8', 'Referrer-Policy': 'origin-when-cross-origin, strict-origin-when-cross-origin', 'X-GitHub-Media-Type': 'github.v3; format=json', 'X-RateLimit-Limit': '60', 'X-RateLimit-Remaining': '0', 'X-RateLimit-Reset': '1754665446', 'X-RateLimit-Resource': 'core', 'X-RateLimit-Used': '60', 'Content-Length': '280', 'X-GitHub-Request-Id': 'E5D5:317B22:264FF79:23CCD9E:689607CF'}\n",
     "output_type": "error",
     "traceback": [
      "\u001b[1;31m---------------------------------------------------------------------------\u001b[0m",
      "\u001b[1;31mValueError\u001b[0m                                Traceback (most recent call last)",
      "Cell \u001b[1;32mIn[58], line 4\u001b[0m\n\u001b[0;32m      1\u001b[0m \u001b[38;5;66;03m# Starting up - Definition 3\u001b[39;00m\n\u001b[0;32m      3\u001b[0m link_org \u001b[38;5;241m=\u001b[39m \u001b[38;5;124m'\u001b[39m\u001b[38;5;124mhttps://yougov.co.uk/ratings/politics/popularity/charities-organisations/all\u001b[39m\u001b[38;5;124m'\u001b[39m\n\u001b[1;32m----> 4\u001b[0m all_org_2 \u001b[38;5;241m=\u001b[39m get_data(link_org)\n\u001b[0;32m      6\u001b[0m all_org_2\n",
      "Cell \u001b[1;32mIn[56], line 27\u001b[0m, in \u001b[0;36mget_data\u001b[1;34m(org)\u001b[0m\n\u001b[0;32m     25\u001b[0m time\u001b[38;5;241m.\u001b[39msleep(\u001b[38;5;241m5\u001b[39m)\n\u001b[0;32m     26\u001b[0m stat_link \u001b[38;5;241m=\u001b[39m url\u001b[38;5;241m.\u001b[39mget_attribute(\u001b[38;5;124m'\u001b[39m\u001b[38;5;124mhref\u001b[39m\u001b[38;5;124m'\u001b[39m)                                  \n\u001b[1;32m---> 27\u001b[0m browser \u001b[38;5;241m=\u001b[39m get_browser_firefox()\n\u001b[0;32m     28\u001b[0m browser\u001b[38;5;241m.\u001b[39mimplicitly_wait(\u001b[38;5;241m15\u001b[39m)\n\u001b[0;32m     29\u001b[0m browser\u001b[38;5;241m.\u001b[39mget(stat_link)\n",
      "Cell \u001b[1;32mIn[4], line 13\u001b[0m, in \u001b[0;36mget_browser_firefox\u001b[1;34m()\u001b[0m\n\u001b[0;32m     12\u001b[0m \u001b[38;5;28;01mdef\u001b[39;00m \u001b[38;5;21mget_browser_firefox\u001b[39m():\n\u001b[1;32m---> 13\u001b[0m     \u001b[38;5;28;01mreturn\u001b[39;00m Firefox(service\u001b[38;5;241m=\u001b[39mFirefoxService(GeckoDriverManager()\u001b[38;5;241m.\u001b[39minstall()))\n",
      "File \u001b[1;32mC:\\Anaconda\\Lib\\site-packages\\webdriver_manager\\firefox.py:39\u001b[0m, in \u001b[0;36mGeckoDriverManager.install\u001b[1;34m(self)\u001b[0m\n\u001b[0;32m     38\u001b[0m \u001b[38;5;28;01mdef\u001b[39;00m \u001b[38;5;21minstall\u001b[39m(\u001b[38;5;28mself\u001b[39m) \u001b[38;5;241m-\u001b[39m\u001b[38;5;241m>\u001b[39m \u001b[38;5;28mstr\u001b[39m:\n\u001b[1;32m---> 39\u001b[0m     driver_path \u001b[38;5;241m=\u001b[39m \u001b[38;5;28mself\u001b[39m\u001b[38;5;241m.\u001b[39m_get_driver_binary_path(\u001b[38;5;28mself\u001b[39m\u001b[38;5;241m.\u001b[39mdriver)\n\u001b[0;32m     40\u001b[0m     os\u001b[38;5;241m.\u001b[39mchmod(driver_path, \u001b[38;5;241m0o755\u001b[39m)\n\u001b[0;32m     41\u001b[0m     \u001b[38;5;28;01mreturn\u001b[39;00m driver_path\n",
      "File \u001b[1;32mC:\\Anaconda\\Lib\\site-packages\\webdriver_manager\\core\\manager.py:35\u001b[0m, in \u001b[0;36mDriverManager._get_driver_binary_path\u001b[1;34m(self, driver)\u001b[0m\n\u001b[0;32m     34\u001b[0m \u001b[38;5;28;01mdef\u001b[39;00m \u001b[38;5;21m_get_driver_binary_path\u001b[39m(\u001b[38;5;28mself\u001b[39m, driver):\n\u001b[1;32m---> 35\u001b[0m     binary_path \u001b[38;5;241m=\u001b[39m \u001b[38;5;28mself\u001b[39m\u001b[38;5;241m.\u001b[39m_cache_manager\u001b[38;5;241m.\u001b[39mfind_driver(driver)\n\u001b[0;32m     36\u001b[0m     \u001b[38;5;28;01mif\u001b[39;00m binary_path:\n\u001b[0;32m     37\u001b[0m         \u001b[38;5;28;01mreturn\u001b[39;00m binary_path\n",
      "File \u001b[1;32mC:\\Anaconda\\Lib\\site-packages\\webdriver_manager\\core\\driver_cache.py:107\u001b[0m, in \u001b[0;36mDriverCacheManager.find_driver\u001b[1;34m(self, driver)\u001b[0m\n\u001b[0;32m    104\u001b[0m \u001b[38;5;28;01mif\u001b[39;00m \u001b[38;5;129;01mnot\u001b[39;00m browser_version:\n\u001b[0;32m    105\u001b[0m     \u001b[38;5;28;01mreturn\u001b[39;00m \u001b[38;5;28;01mNone\u001b[39;00m\n\u001b[1;32m--> 107\u001b[0m driver_version \u001b[38;5;241m=\u001b[39m \u001b[38;5;28mself\u001b[39m\u001b[38;5;241m.\u001b[39mget_cache_key_driver_version(driver)\n\u001b[0;32m    108\u001b[0m metadata \u001b[38;5;241m=\u001b[39m \u001b[38;5;28mself\u001b[39m\u001b[38;5;241m.\u001b[39mload_metadata_content()\n\u001b[0;32m    110\u001b[0m key \u001b[38;5;241m=\u001b[39m \u001b[38;5;28mself\u001b[39m\u001b[38;5;241m.\u001b[39m__get_metadata_key(driver)\n",
      "File \u001b[1;32mC:\\Anaconda\\Lib\\site-packages\\webdriver_manager\\core\\driver_cache.py:154\u001b[0m, in \u001b[0;36mDriverCacheManager.get_cache_key_driver_version\u001b[1;34m(self, driver)\u001b[0m\n\u001b[0;32m    152\u001b[0m \u001b[38;5;28;01mif\u001b[39;00m \u001b[38;5;28mself\u001b[39m\u001b[38;5;241m.\u001b[39m_cache_key_driver_version:\n\u001b[0;32m    153\u001b[0m     \u001b[38;5;28;01mreturn\u001b[39;00m \u001b[38;5;28mself\u001b[39m\u001b[38;5;241m.\u001b[39m_cache_key_driver_version\n\u001b[1;32m--> 154\u001b[0m \u001b[38;5;28;01mreturn\u001b[39;00m driver\u001b[38;5;241m.\u001b[39mget_driver_version_to_download()\n",
      "File \u001b[1;32mC:\\Anaconda\\Lib\\site-packages\\webdriver_manager\\core\\driver.py:48\u001b[0m, in \u001b[0;36mDriver.get_driver_version_to_download\u001b[1;34m(self)\u001b[0m\n\u001b[0;32m     45\u001b[0m \u001b[38;5;28;01mif\u001b[39;00m \u001b[38;5;28mself\u001b[39m\u001b[38;5;241m.\u001b[39m_driver_version_to_download:\n\u001b[0;32m     46\u001b[0m     \u001b[38;5;28;01mreturn\u001b[39;00m \u001b[38;5;28mself\u001b[39m\u001b[38;5;241m.\u001b[39m_driver_version_to_download\n\u001b[1;32m---> 48\u001b[0m \u001b[38;5;28;01mreturn\u001b[39;00m \u001b[38;5;28mself\u001b[39m\u001b[38;5;241m.\u001b[39mget_latest_release_version()\n",
      "File \u001b[1;32mC:\\Anaconda\\Lib\\site-packages\\webdriver_manager\\drivers\\firefox.py:29\u001b[0m, in \u001b[0;36mGeckoDriver.get_latest_release_version\u001b[1;34m(self)\u001b[0m\n\u001b[0;32m     27\u001b[0m determined_browser_version \u001b[38;5;241m=\u001b[39m \u001b[38;5;28mself\u001b[39m\u001b[38;5;241m.\u001b[39mget_browser_version_from_os()\n\u001b[0;32m     28\u001b[0m log(\u001b[38;5;124mf\u001b[39m\u001b[38;5;124m\"\u001b[39m\u001b[38;5;124mGet LATEST \u001b[39m\u001b[38;5;132;01m{\u001b[39;00m\u001b[38;5;28mself\u001b[39m\u001b[38;5;241m.\u001b[39m_name\u001b[38;5;132;01m}\u001b[39;00m\u001b[38;5;124m version for \u001b[39m\u001b[38;5;132;01m{\u001b[39;00mdetermined_browser_version\u001b[38;5;132;01m}\u001b[39;00m\u001b[38;5;124m firefox\u001b[39m\u001b[38;5;124m\"\u001b[39m)\n\u001b[1;32m---> 29\u001b[0m resp \u001b[38;5;241m=\u001b[39m \u001b[38;5;28mself\u001b[39m\u001b[38;5;241m.\u001b[39m_http_client\u001b[38;5;241m.\u001b[39mget(\n\u001b[0;32m     30\u001b[0m     url\u001b[38;5;241m=\u001b[39m\u001b[38;5;28mself\u001b[39m\u001b[38;5;241m.\u001b[39mlatest_release_url,\n\u001b[0;32m     31\u001b[0m     headers\u001b[38;5;241m=\u001b[39m\u001b[38;5;28mself\u001b[39m\u001b[38;5;241m.\u001b[39mauth_header\n\u001b[0;32m     32\u001b[0m )\n\u001b[0;32m     33\u001b[0m \u001b[38;5;28;01mreturn\u001b[39;00m resp\u001b[38;5;241m.\u001b[39mjson()[\u001b[38;5;124m\"\u001b[39m\u001b[38;5;124mtag_name\u001b[39m\u001b[38;5;124m\"\u001b[39m]\n",
      "File \u001b[1;32mC:\\Anaconda\\Lib\\site-packages\\webdriver_manager\\core\\http.py:36\u001b[0m, in \u001b[0;36mWDMHttpClient.get\u001b[1;34m(self, url, **kwargs)\u001b[0m\n\u001b[0;32m     34\u001b[0m \u001b[38;5;28;01mexcept\u001b[39;00m exceptions\u001b[38;5;241m.\u001b[39mConnectionError:\n\u001b[0;32m     35\u001b[0m     \u001b[38;5;28;01mraise\u001b[39;00m exceptions\u001b[38;5;241m.\u001b[39mConnectionError(\u001b[38;5;124mf\u001b[39m\u001b[38;5;124m\"\u001b[39m\u001b[38;5;124mCould not reach host. Are you offline?\u001b[39m\u001b[38;5;124m\"\u001b[39m)\n\u001b[1;32m---> 36\u001b[0m \u001b[38;5;28mself\u001b[39m\u001b[38;5;241m.\u001b[39mvalidate_response(resp)\n\u001b[0;32m     37\u001b[0m \u001b[38;5;28;01mreturn\u001b[39;00m resp\n",
      "File \u001b[1;32mC:\\Anaconda\\Lib\\site-packages\\webdriver_manager\\core\\http.py:19\u001b[0m, in \u001b[0;36mHttpClient.validate_response\u001b[1;34m(resp)\u001b[0m\n\u001b[0;32m     17\u001b[0m     \u001b[38;5;28;01mraise\u001b[39;00m \u001b[38;5;167;01mValueError\u001b[39;00m(\u001b[38;5;124mf\u001b[39m\u001b[38;5;124m\"\u001b[39m\u001b[38;5;124mAPI Rate limit exceeded. You have to add GH_TOKEN!!!\u001b[39m\u001b[38;5;124m\"\u001b[39m)\n\u001b[0;32m     18\u001b[0m \u001b[38;5;28;01melif\u001b[39;00m resp\u001b[38;5;241m.\u001b[39mstatus_code \u001b[38;5;241m!=\u001b[39m \u001b[38;5;241m200\u001b[39m:\n\u001b[1;32m---> 19\u001b[0m     \u001b[38;5;28;01mraise\u001b[39;00m \u001b[38;5;167;01mValueError\u001b[39;00m(\n\u001b[0;32m     20\u001b[0m         \u001b[38;5;124mf\u001b[39m\u001b[38;5;124m\"\u001b[39m\u001b[38;5;124mresponse body:\u001b[39m\u001b[38;5;130;01m\\n\u001b[39;00m\u001b[38;5;132;01m{\u001b[39;00mresp\u001b[38;5;241m.\u001b[39mtext\u001b[38;5;132;01m}\u001b[39;00m\u001b[38;5;130;01m\\n\u001b[39;00m\u001b[38;5;124m\"\u001b[39m\n\u001b[0;32m     21\u001b[0m         \u001b[38;5;124mf\u001b[39m\u001b[38;5;124m\"\u001b[39m\u001b[38;5;124mrequest url:\u001b[39m\u001b[38;5;130;01m\\n\u001b[39;00m\u001b[38;5;132;01m{\u001b[39;00mresp\u001b[38;5;241m.\u001b[39mrequest\u001b[38;5;241m.\u001b[39murl\u001b[38;5;132;01m}\u001b[39;00m\u001b[38;5;130;01m\\n\u001b[39;00m\u001b[38;5;124m\"\u001b[39m\n\u001b[0;32m     22\u001b[0m         \u001b[38;5;124mf\u001b[39m\u001b[38;5;124m\"\u001b[39m\u001b[38;5;124mresponse headers:\u001b[39m\u001b[38;5;130;01m\\n\u001b[39;00m\u001b[38;5;132;01m{\u001b[39;00m\u001b[38;5;28mdict\u001b[39m(resp\u001b[38;5;241m.\u001b[39mheaders)\u001b[38;5;132;01m}\u001b[39;00m\u001b[38;5;130;01m\\n\u001b[39;00m\u001b[38;5;124m\"\u001b[39m\n\u001b[0;32m     23\u001b[0m     )\n",
      "\u001b[1;31mValueError\u001b[0m: response body:\n{\"message\":\"API rate limit exceeded for 45.129.254.142. (But here's the good news: Authenticated requests get a higher rate limit. Check out the documentation for more details.)\",\"documentation_url\":\"https://docs.github.com/rest/overview/resources-in-the-rest-api#rate-limiting\"}\n\nrequest url:\nhttps://api.github.com/repos/mozilla/geckodriver/releases/latest\nresponse headers:\n{'Date': 'Fri, 08 Aug 2025 14:21:03 GMT', 'Server': 'Varnish', 'Strict-Transport-Security': 'max-age=31536000; includeSubdomains; preload', 'X-Content-Type-Options': 'nosniff', 'X-Frame-Options': 'deny', 'X-XSS-Protection': '1; mode=block', 'Content-Security-Policy': \"default-src 'none'; style-src 'unsafe-inline'\", 'Access-Control-Allow-Origin': '*', 'Access-Control-Expose-Headers': 'ETag, Link, Location, Retry-After, X-GitHub-OTP, X-RateLimit-Limit, X-RateLimit-Remaining, X-RateLimit-Reset, X-RateLimit-Used, X-RateLimit-Resource, X-OAuth-Scopes, X-Accepted-OAuth-Scopes, X-Poll-Interval, X-GitHub-Media-Type, Deprecation, Sunset', 'Content-Type': 'application/json; charset=utf-8', 'Referrer-Policy': 'origin-when-cross-origin, strict-origin-when-cross-origin', 'X-GitHub-Media-Type': 'github.v3; format=json', 'X-RateLimit-Limit': '60', 'X-RateLimit-Remaining': '0', 'X-RateLimit-Reset': '1754665446', 'X-RateLimit-Resource': 'core', 'X-RateLimit-Used': '60', 'Content-Length': '280', 'X-GitHub-Request-Id': 'E5D5:317B22:264FF79:23CCD9E:689607CF'}\n"
     ]
    }
   ],
   "source": [
    "# Starting up - Definition 3\n",
    "\n",
    "link_org = 'https://yougov.co.uk/ratings/politics/popularity/charities-organisations/all'\n",
    "all_org = get_data(link_org)\n",
    "\n",
    "all_org"
   ]
  },
  {
   "cell_type": "code",
   "execution_count": 44,
   "metadata": {},
   "outputs": [],
   "source": [
    "# Saving data to a .json file\n",
    "\n",
    "with open('charity_organizations.json', 'w') as file:\n",
    "    file.write(json.dumps(all_org))"
   ]
  },
  {
   "cell_type": "code",
   "execution_count": 46,
   "metadata": {},
   "outputs": [
    {
     "data": {
      "text/plain": [
       "[{'url': 'https://yougov.co.uk/topics/health/explore/not-for-profit/Macmillan_Cancer_Support',\n",
       "  'company_name': 'Macmillan Cancer Support'},\n",
       " {'Fame': '97%', 'Popularity': '90%', 'Disliked by': '0%', 'Neutral': '7%'},\n",
       " {'url': 'https://yougov.co.uk/topics/health/explore/not-for-profit/St_John_Ambulance',\n",
       "  'company_name': 'St. John Ambulance'},\n",
       " {'Fame': '96%', 'Popularity': '87%', 'Disliked by': '1%', 'Neutral': '8%'},\n",
       " {'url': 'https://yougov.co.uk/topics/health/explore/not-for-profit/Cancer_Research_UK',\n",
       "  'company_name': 'Cancer Research UK'},\n",
       " {'Fame': '98%', 'Popularity': '87%', 'Disliked by': '3%', 'Neutral': '8%'},\n",
       " {'url': 'https://yougov.co.uk/topics/health/explore/not-for-profit/British_Heart_Foundation',\n",
       "  'company_name': 'British Heart Foundation'},\n",
       " {'Fame': '97%', 'Popularity': '85%', 'Disliked by': '2%', 'Neutral': '10%'},\n",
       " {'url': 'https://yougov.co.uk/topics/health/explore/not-for-profit/Great_Ormond_Street_Hospital',\n",
       "  'company_name': 'Great Ormond Street Hospital'},\n",
       " {'Fame': '95%', 'Popularity': '83%', 'Disliked by': '1%', 'Neutral': '11%'},\n",
       " {'url': 'https://yougov.co.uk/topics/health/explore/not-for-profit/Alzheimers_Research_UK',\n",
       "  'company_name': \"Alzheimer's Research UK\"},\n",
       " {'Fame': '93%', 'Popularity': '81%', 'Disliked by': '4%', 'Neutral': '7%'},\n",
       " {'url': 'https://yougov.co.uk/topics/health/explore/not-for-profit/National_Trust',\n",
       "  'company_name': 'National Trust'},\n",
       " {'Fame': '98%', 'Popularity': '80%', 'Disliked by': '6%', 'Neutral': '12%'},\n",
       " {'url': 'https://yougov.co.uk/topics/health/explore/not-for-profit/Alzheimers_Society',\n",
       "  'company_name': \"Alzheimer's Society\"},\n",
       " {'Fame': '94%', 'Popularity': '80%', 'Disliked by': '1%', 'Neutral': '13%'},\n",
       " {'url': 'https://yougov.co.uk/topics/health/explore/not-for-profit/Marie_Curie',\n",
       "  'company_name': 'Marie Curie'},\n",
       " {'Fame': '95%', 'Popularity': '80%', 'Disliked by': '2%', 'Neutral': '13%'},\n",
       " {'url': 'https://yougov.co.uk/topics/health/explore/not-for-profit/Guide_Dogs',\n",
       "  'company_name': 'Guide Dogs'},\n",
       " {'Fame': '89%', 'Popularity': '77%', 'Disliked by': '1%', 'Neutral': '11%'},\n",
       " {'url': 'https://yougov.co.uk/topics/health/explore/not-for-profit/NSPCC',\n",
       "  'company_name': 'NSPCC'},\n",
       " {'Fame': '95%', 'Popularity': '77%', 'Disliked by': '3%', 'Neutral': '16%'},\n",
       " {'url': 'https://yougov.co.uk/topics/health/explore/not-for-profit/Prostate_Cancer_UK',\n",
       "  'company_name': 'Prostate Cancer UK'},\n",
       " {'Fame': '91%', 'Popularity': '76%', 'Disliked by': '1%', 'Neutral': '14%'},\n",
       " {'url': 'https://yougov.co.uk/topics/health/explore/not-for-profit/British_Red_Cross',\n",
       "  'company_name': 'British Red Cross'},\n",
       " {'Fame': '98%', 'Popularity': '74%', 'Disliked by': '3%', 'Neutral': '21%'},\n",
       " {'url': 'https://yougov.co.uk/topics/health/explore/not-for-profit/WWF',\n",
       "  'company_name': 'WWF'},\n",
       " {'Fame': '96%', 'Popularity': '73%', 'Disliked by': '4%', 'Neutral': '19%'},\n",
       " {'url': 'https://yougov.co.uk/topics/health/explore/not-for-profit/Duke_of_Edinburgh_Awards',\n",
       "  'company_name': 'Duke of Edinburgh Awards'},\n",
       " {'Fame': '94%', 'Popularity': '73%', 'Disliked by': '4%', 'Neutral': '17%'},\n",
       " {'url': 'https://yougov.co.uk/topics/health/explore/not-for-profit/RSPCA',\n",
       "  'company_name': 'RSPCA'},\n",
       " {'Fame': '95%', 'Popularity': '73%', 'Disliked by': '6%', 'Neutral': '16%'},\n",
       " {'url': 'https://yougov.co.uk/topics/health/explore/not-for-profit/ChildLine',\n",
       "  'company_name': 'ChildLine'},\n",
       " {'Fame': '94%', 'Popularity': '73%', 'Disliked by': '1%', 'Neutral': '20%'},\n",
       " {'url': 'https://yougov.co.uk/topics/health/explore/not-for-profit/Make_A_Wish_Foundation',\n",
       "  'company_name': 'Make-A-Wish Foundation'},\n",
       " {'Fame': '92%', 'Popularity': '72%', 'Disliked by': '2%', 'Neutral': '18%'},\n",
       " {'url': 'https://yougov.co.uk/topics/health/explore/not-for-profit/Londons_Air_Ambulance',\n",
       "  'company_name': \"London's Air Ambulance\"},\n",
       " {'Fame': '88%', 'Popularity': '72%', 'Disliked by': '0%', 'Neutral': '16%'},\n",
       " {'url': 'https://yougov.co.uk/topics/health/explore/not-for-profit/Mind',\n",
       "  'company_name': 'Mind'},\n",
       " {'Fame': '92%', 'Popularity': '71%', 'Disliked by': '1%', 'Neutral': '20%'}]"
      ]
     },
     "execution_count": 46,
     "metadata": {},
     "output_type": "execute_result"
    }
   ],
   "source": [
    "# Checking whether the data has been saved correctly\n",
    "\n",
    "with open('charity_organizations.json') as file:\n",
    "    org_data = json.loads(file.read())\n",
    "\n",
    "org_data"
   ]
  },
  {
   "cell_type": "code",
   "execution_count": null,
   "metadata": {},
   "outputs": [],
   "source": []
  }
 ],
 "metadata": {
  "kernelspec": {
   "display_name": "Python [conda env:base] *",
   "language": "python",
   "name": "conda-base-py"
  },
  "language_info": {
   "codemirror_mode": {
    "name": "ipython",
    "version": 3
   },
   "file_extension": ".py",
   "mimetype": "text/x-python",
   "name": "python",
   "nbconvert_exporter": "python",
   "pygments_lexer": "ipython3",
   "version": "3.12.3"
  }
 },
 "nbformat": 4,
 "nbformat_minor": 4
}
